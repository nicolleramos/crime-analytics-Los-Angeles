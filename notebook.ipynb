{
 "cells": [
  {
   "cell_type": "markdown",
   "id": "31ab2131-3049-4d8d-b9dc-d195f72af27a",
   "metadata": {},
   "source": [
    "### Dicionário de Dados - Registros de Criminalidade\n",
    "\n",
    "| Coluna          | Descrição |\n",
    "|-----------------|-----------|\n",
    "| **`'dr_no'`** | Número Oficial de Registro (composto por: 2 dígitos do ano + código de área + 5 dígitos sequenciais) |\n",
    "| **`'date_rptd'`** | Data de registro do crime (formato: MM/DD/AAAA) |\n",
    "| **`'date_occ'`** | Data da ocorrência do crime (formato: MM/DD/AAAA) |\n",
    "| **`'time_occ'`** | Horário da ocorrência (formato militar 24 horas) |\n",
    "| **`'area_name'`** | Área Geográfica/Divisão Policial (21 regiões nomeadas por referências geográficas)<br>*Exemplo: A Divisão \"77th Street\" cobre bairros do sul de Los Angeles, próxima ao cruzamento da South Broadway com a 77th Street* |\n",
    "| **`'crm_cd_desc'`** | Descrição do tipo de crime cometido |\n",
    "| **`'vict_age'`** | Idade da vítima (em anos completos) |\n",
    "| **`'vict_sex'`** | Sexo da vítima:<br>• `F` - Feminino<br>• `M` - Masculino<br>• `X` - Desconhecido |\n",
    "| **`'vict_descent'`** | Etnia da vítima:<br>• `A` - Asiático (outros)<br>• `B` - Negro/Afro-americano<br>• `C` - Chinês<br>• `D` - Cambojano<br>• `F` - Filipino<br>• `G` - Guamês<br>• `H` - Hispânico/Latino/Mexicano<br>• `I` - Indígena americano/Nativo do Alasca<br>• `J` - Japonês<br>• `K` - Coreano<br>• `L` - Laosiano<br>• `O` - Outros<br>• `P` - Ilhéu do Pacífico<br>• `S` - Samoano<br>• `U` - Havaiano<br>• `V` - Vietnamita<br>• `W` - Branco<br>• `X` - Desconhecido<br>• `Z` - Indiano asiático |\n",
    "| **`'weapon_desc'`** | Descrição da arma utilizada (quando aplicável) |\n",
    "| **`'status_desc'`** | Status de investigação do crime |\n",
    "| **`'location'`** | Endereço exato da ocorrência (rua e número) |\n",
    "\n",
    "---"
   ]
  },
  {
   "cell_type": "code",
   "execution_count": 48,
   "id": "7c6c3c36-5c8b-4cce-8681-95292b8f0861",
   "metadata": {
    "executionCancelledAt": null,
    "executionTime": 413,
    "lastExecutedAt": 1712065925214,
    "lastScheduledRunId": null,
    "lastSuccessfullyExecutedCode": "# Re-run this cell\n# Import required libraries\nimport pandas as pd\nimport numpy as np\nimport matplotlib.pyplot as plt\nimport seaborn as sns\ncrimes = pd.read_csv(\"crimes.csv\", parse_dates=[\"Date Rptd\", \"DATE OCC\"], dtype={\"TIME OCC\": str})\ncrimes.head()",
    "outputsMetadata": {
     "0": {
      "height": 550,
      "tableState": {
       "quickFilterText": ""
      },
      "type": "dataFrame"
     }
    }
   },
   "outputs": [
    {
     "data": {
      "text/html": [
       "<div>\n",
       "<style scoped>\n",
       "    .dataframe tbody tr th:only-of-type {\n",
       "        vertical-align: middle;\n",
       "    }\n",
       "\n",
       "    .dataframe tbody tr th {\n",
       "        vertical-align: top;\n",
       "    }\n",
       "\n",
       "    .dataframe thead th {\n",
       "        text-align: right;\n",
       "    }\n",
       "</style>\n",
       "<table border=\"1\" class=\"dataframe\">\n",
       "  <thead>\n",
       "    <tr style=\"text-align: right;\">\n",
       "      <th></th>\n",
       "      <th>DR_NO</th>\n",
       "      <th>Date Rptd</th>\n",
       "      <th>DATE OCC</th>\n",
       "      <th>TIME OCC</th>\n",
       "      <th>AREA NAME</th>\n",
       "      <th>Crm Cd Desc</th>\n",
       "      <th>Vict Age</th>\n",
       "      <th>Vict Sex</th>\n",
       "      <th>Vict Descent</th>\n",
       "      <th>Weapon Desc</th>\n",
       "      <th>Status Desc</th>\n",
       "      <th>LOCATION</th>\n",
       "    </tr>\n",
       "  </thead>\n",
       "  <tbody>\n",
       "    <tr>\n",
       "      <th>0</th>\n",
       "      <td>220314085</td>\n",
       "      <td>2022-07-22</td>\n",
       "      <td>2020-05-12</td>\n",
       "      <td>1110</td>\n",
       "      <td>Southwest</td>\n",
       "      <td>THEFT OF IDENTITY</td>\n",
       "      <td>27</td>\n",
       "      <td>F</td>\n",
       "      <td>B</td>\n",
       "      <td>NaN</td>\n",
       "      <td>Invest Cont</td>\n",
       "      <td>2500 S  SYCAMORE                     AV</td>\n",
       "    </tr>\n",
       "    <tr>\n",
       "      <th>1</th>\n",
       "      <td>222013040</td>\n",
       "      <td>2022-08-06</td>\n",
       "      <td>2020-06-04</td>\n",
       "      <td>1620</td>\n",
       "      <td>Olympic</td>\n",
       "      <td>THEFT OF IDENTITY</td>\n",
       "      <td>60</td>\n",
       "      <td>M</td>\n",
       "      <td>H</td>\n",
       "      <td>NaN</td>\n",
       "      <td>Invest Cont</td>\n",
       "      <td>3300    SAN MARINO                   ST</td>\n",
       "    </tr>\n",
       "    <tr>\n",
       "      <th>2</th>\n",
       "      <td>220614831</td>\n",
       "      <td>2022-08-18</td>\n",
       "      <td>2020-08-17</td>\n",
       "      <td>1200</td>\n",
       "      <td>Hollywood</td>\n",
       "      <td>THEFT OF IDENTITY</td>\n",
       "      <td>28</td>\n",
       "      <td>M</td>\n",
       "      <td>H</td>\n",
       "      <td>NaN</td>\n",
       "      <td>Invest Cont</td>\n",
       "      <td>1900    TRANSIENT</td>\n",
       "    </tr>\n",
       "    <tr>\n",
       "      <th>3</th>\n",
       "      <td>231207725</td>\n",
       "      <td>2023-02-27</td>\n",
       "      <td>2020-01-27</td>\n",
       "      <td>0635</td>\n",
       "      <td>77th Street</td>\n",
       "      <td>THEFT OF IDENTITY</td>\n",
       "      <td>37</td>\n",
       "      <td>M</td>\n",
       "      <td>H</td>\n",
       "      <td>NaN</td>\n",
       "      <td>Invest Cont</td>\n",
       "      <td>6200    4TH                          AV</td>\n",
       "    </tr>\n",
       "    <tr>\n",
       "      <th>4</th>\n",
       "      <td>220213256</td>\n",
       "      <td>2022-07-14</td>\n",
       "      <td>2020-07-14</td>\n",
       "      <td>0900</td>\n",
       "      <td>Rampart</td>\n",
       "      <td>THEFT OF IDENTITY</td>\n",
       "      <td>79</td>\n",
       "      <td>M</td>\n",
       "      <td>B</td>\n",
       "      <td>NaN</td>\n",
       "      <td>Invest Cont</td>\n",
       "      <td>1200 W  7TH                          ST</td>\n",
       "    </tr>\n",
       "  </tbody>\n",
       "</table>\n",
       "</div>"
      ],
      "text/plain": [
       "       DR_NO  Date Rptd   DATE OCC TIME OCC    AREA NAME        Crm Cd Desc  \\\n",
       "0  220314085 2022-07-22 2020-05-12     1110    Southwest  THEFT OF IDENTITY   \n",
       "1  222013040 2022-08-06 2020-06-04     1620      Olympic  THEFT OF IDENTITY   \n",
       "2  220614831 2022-08-18 2020-08-17     1200    Hollywood  THEFT OF IDENTITY   \n",
       "3  231207725 2023-02-27 2020-01-27     0635  77th Street  THEFT OF IDENTITY   \n",
       "4  220213256 2022-07-14 2020-07-14     0900      Rampart  THEFT OF IDENTITY   \n",
       "\n",
       "   Vict Age Vict Sex Vict Descent Weapon Desc  Status Desc  \\\n",
       "0        27        F            B         NaN  Invest Cont   \n",
       "1        60        M            H         NaN  Invest Cont   \n",
       "2        28        M            H         NaN  Invest Cont   \n",
       "3        37        M            H         NaN  Invest Cont   \n",
       "4        79        M            B         NaN  Invest Cont   \n",
       "\n",
       "                                  LOCATION  \n",
       "0  2500 S  SYCAMORE                     AV  \n",
       "1  3300    SAN MARINO                   ST  \n",
       "2                        1900    TRANSIENT  \n",
       "3  6200    4TH                          AV  \n",
       "4  1200 W  7TH                          ST  "
      ]
     },
     "metadata": {},
     "output_type": "display_data"
    }
   ],
   "source": [
    "# Importar bibliotecas necessárias\n",
    "import pandas as pd\n",
    "import numpy as np\n",
    "import matplotlib.pyplot as plt\n",
    "import seaborn as sns\n",
    "sns.set_style('whitegrid')\n",
    "\n",
    "# ler e visualizar o conjunto de dados\n",
    "crimes = pd.read_csv(\"crimes.csv\", parse_dates=[\"Date Rptd\", \"DATE OCC\"], dtype={\"TIME OCC\": str})\n",
    "display(crimes.head())"
   ]
  },
  {
   "cell_type": "code",
   "execution_count": 50,
   "id": "53eada96-447c-46c3-9848-f4ca3de53d06",
   "metadata": {},
   "outputs": [
    {
     "data": {
      "text/html": [
       "<div>\n",
       "<style scoped>\n",
       "    .dataframe tbody tr th:only-of-type {\n",
       "        vertical-align: middle;\n",
       "    }\n",
       "\n",
       "    .dataframe tbody tr th {\n",
       "        vertical-align: top;\n",
       "    }\n",
       "\n",
       "    .dataframe thead th {\n",
       "        text-align: right;\n",
       "    }\n",
       "</style>\n",
       "<table border=\"1\" class=\"dataframe\">\n",
       "  <thead>\n",
       "    <tr style=\"text-align: right;\">\n",
       "      <th></th>\n",
       "      <th>dr_no</th>\n",
       "      <th>date_rptd</th>\n",
       "      <th>date_occ</th>\n",
       "      <th>time_occ</th>\n",
       "      <th>area_name</th>\n",
       "      <th>crm_cd_desc</th>\n",
       "      <th>vict_age</th>\n",
       "      <th>vict_sex</th>\n",
       "      <th>vict_descent</th>\n",
       "      <th>weapon_desc</th>\n",
       "      <th>status_desc</th>\n",
       "      <th>location</th>\n",
       "      <th>hour_occ</th>\n",
       "    </tr>\n",
       "  </thead>\n",
       "  <tbody>\n",
       "    <tr>\n",
       "      <th>0</th>\n",
       "      <td>220314085</td>\n",
       "      <td>2022-07-22</td>\n",
       "      <td>2020-05-12</td>\n",
       "      <td>1110</td>\n",
       "      <td>Southwest</td>\n",
       "      <td>THEFT OF IDENTITY</td>\n",
       "      <td>27</td>\n",
       "      <td>F</td>\n",
       "      <td>B</td>\n",
       "      <td>NaN</td>\n",
       "      <td>Invest Cont</td>\n",
       "      <td>2500 S  SYCAMORE                     AV</td>\n",
       "      <td>11</td>\n",
       "    </tr>\n",
       "    <tr>\n",
       "      <th>1</th>\n",
       "      <td>222013040</td>\n",
       "      <td>2022-08-06</td>\n",
       "      <td>2020-06-04</td>\n",
       "      <td>1620</td>\n",
       "      <td>Olympic</td>\n",
       "      <td>THEFT OF IDENTITY</td>\n",
       "      <td>60</td>\n",
       "      <td>M</td>\n",
       "      <td>H</td>\n",
       "      <td>NaN</td>\n",
       "      <td>Invest Cont</td>\n",
       "      <td>3300    SAN MARINO                   ST</td>\n",
       "      <td>16</td>\n",
       "    </tr>\n",
       "    <tr>\n",
       "      <th>2</th>\n",
       "      <td>220614831</td>\n",
       "      <td>2022-08-18</td>\n",
       "      <td>2020-08-17</td>\n",
       "      <td>1200</td>\n",
       "      <td>Hollywood</td>\n",
       "      <td>THEFT OF IDENTITY</td>\n",
       "      <td>28</td>\n",
       "      <td>M</td>\n",
       "      <td>H</td>\n",
       "      <td>NaN</td>\n",
       "      <td>Invest Cont</td>\n",
       "      <td>1900    TRANSIENT</td>\n",
       "      <td>12</td>\n",
       "    </tr>\n",
       "    <tr>\n",
       "      <th>3</th>\n",
       "      <td>231207725</td>\n",
       "      <td>2023-02-27</td>\n",
       "      <td>2020-01-27</td>\n",
       "      <td>0635</td>\n",
       "      <td>77th Street</td>\n",
       "      <td>THEFT OF IDENTITY</td>\n",
       "      <td>37</td>\n",
       "      <td>M</td>\n",
       "      <td>H</td>\n",
       "      <td>NaN</td>\n",
       "      <td>Invest Cont</td>\n",
       "      <td>6200    4TH                          AV</td>\n",
       "      <td>6</td>\n",
       "    </tr>\n",
       "    <tr>\n",
       "      <th>4</th>\n",
       "      <td>220213256</td>\n",
       "      <td>2022-07-14</td>\n",
       "      <td>2020-07-14</td>\n",
       "      <td>0900</td>\n",
       "      <td>Rampart</td>\n",
       "      <td>THEFT OF IDENTITY</td>\n",
       "      <td>79</td>\n",
       "      <td>M</td>\n",
       "      <td>B</td>\n",
       "      <td>NaN</td>\n",
       "      <td>Invest Cont</td>\n",
       "      <td>1200 W  7TH                          ST</td>\n",
       "      <td>9</td>\n",
       "    </tr>\n",
       "  </tbody>\n",
       "</table>\n",
       "</div>"
      ],
      "text/plain": [
       "       dr_no  date_rptd   date_occ time_occ    area_name        crm_cd_desc  \\\n",
       "0  220314085 2022-07-22 2020-05-12     1110    Southwest  THEFT OF IDENTITY   \n",
       "1  222013040 2022-08-06 2020-06-04     1620      Olympic  THEFT OF IDENTITY   \n",
       "2  220614831 2022-08-18 2020-08-17     1200    Hollywood  THEFT OF IDENTITY   \n",
       "3  231207725 2023-02-27 2020-01-27     0635  77th Street  THEFT OF IDENTITY   \n",
       "4  220213256 2022-07-14 2020-07-14     0900      Rampart  THEFT OF IDENTITY   \n",
       "\n",
       "   vict_age vict_sex vict_descent weapon_desc  status_desc  \\\n",
       "0        27        F            B         NaN  Invest Cont   \n",
       "1        60        M            H         NaN  Invest Cont   \n",
       "2        28        M            H         NaN  Invest Cont   \n",
       "3        37        M            H         NaN  Invest Cont   \n",
       "4        79        M            B         NaN  Invest Cont   \n",
       "\n",
       "                                  location  hour_occ  \n",
       "0  2500 S  SYCAMORE                     AV        11  \n",
       "1  3300    SAN MARINO                   ST        16  \n",
       "2                        1900    TRANSIENT        12  \n",
       "3  6200    4TH                          AV         6  \n",
       "4  1200 W  7TH                          ST         9  "
      ]
     },
     "metadata": {},
     "output_type": "display_data"
    }
   ],
   "source": [
    "# Melhorar a visualização e organização do conjunto de dados\n",
    "crimes.columns = crimes.columns.str.replace(' ', '_')\n",
    "crimes.columns = [c.lower() for c in crimes.columns]\n",
    "crimes['hour_occ'] = crimes['time_occ'].str[:2].astype(int)\n",
    "\n",
    "display(crimes.head())"
   ]
  },
  {
   "cell_type": "code",
   "execution_count": 3,
   "id": "5e01ac0d-e374-472f-84b9-ed05e3965ed6",
   "metadata": {},
   "outputs": [
    {
     "name": "stdout",
     "output_type": "stream",
     "text": [
      "<class 'pandas.core.frame.DataFrame'>\n",
      "RangeIndex: 185715 entries, 0 to 185714\n",
      "Data columns (total 13 columns):\n",
      " #   Column        Non-Null Count   Dtype         \n",
      "---  ------        --------------   -----         \n",
      " 0   dr_no         185715 non-null  int64         \n",
      " 1   date_rptd     185715 non-null  datetime64[ns]\n",
      " 2   date_occ      185715 non-null  datetime64[ns]\n",
      " 3   time_occ      185715 non-null  object        \n",
      " 4   area_name     185715 non-null  object        \n",
      " 5   crm_cd_desc   185715 non-null  object        \n",
      " 6   vict_age      185715 non-null  int64         \n",
      " 7   vict_sex      185704 non-null  object        \n",
      " 8   vict_descent  185705 non-null  object        \n",
      " 9   weapon_desc   73502 non-null   object        \n",
      " 10  status_desc   185715 non-null  object        \n",
      " 11  location      185715 non-null  object        \n",
      " 12  hour_occ      185715 non-null  int64         \n",
      "dtypes: datetime64[ns](2), int64(3), object(8)\n",
      "memory usage: 18.4+ MB\n"
     ]
    }
   ],
   "source": [
    "crimes.info()"
   ]
  },
  {
   "cell_type": "code",
   "execution_count": 53,
   "id": "df8275f9-86ba-453b-89ec-e7d1ad9e6333",
   "metadata": {},
   "outputs": [
    {
     "data": {
      "image/png": "[encoded data removed]",
      "text/plain": [
       "<Figure size 640x480 with 1 Axes>"
      ]
     },
     "metadata": {},
     "output_type": "display_data"
    }
   ],
   "source": [
    "# Countplot para encontrar a maior frequência de crimes por hora\n",
    "sns.countplot(data=crimes, x='hour_occ', color = '#778da9')\n",
    "plt.show()"
   ]
  },
  {
   "cell_type": "code",
   "execution_count": 8,
   "id": "cb90a13f-e5e1-4a4d-bc31-8c5d77398f85",
   "metadata": {},
   "outputs": [
    {
     "name": "stdout",
     "output_type": "stream",
     "text": [
      "13663\n"
     ]
    }
   ],
   "source": [
    "peak_crime_hour = crimes['hour_occ'].value_counts().max()\n",
    "print(peak_crime_hour) # Maior valor de registros encontrados no mesmo horário\n",
    "\n",
    "max_peak_crime_hour = 12"
   ]
  },
  {
   "cell_type": "code",
   "execution_count": 9,
   "id": "976a2d6c-d3b2-40ee-a4e4-da68eec77b1c",
   "metadata": {},
   "outputs": [
    {
     "name": "stdout",
     "output_type": "stream",
     "text": [
      "Central\n"
     ]
    }
   ],
   "source": [
    "night_time = crimes[crimes['hour_occ'].isin([22,23,0,1,2,3])]\n",
    "peak_night_crime_location = night_time.groupby('area_name', as_index=False)['hour_occ'].count().sort_values('hour_occ', ascending=False).iloc[0]['area_name']\n",
    "print(peak_night_crime_location) # Área com a maior frequência de crimes noturnos (crimes cometidos entre 22h e 3h59)"
   ]
  },
  {
   "cell_type": "code",
   "execution_count": 10,
   "id": "088d964b-d79f-4fbb-9f10-f1c3e23ec98b",
   "metadata": {},
   "outputs": [],
   "source": [
    "age_bins = [0, 17, 25, 34, 44, 54, 64, np.inf]\n",
    "age_labels = ['0-17', '18-25', '26-34', '35-44', '45-54', '55-64', '65+']\n",
    "\n",
    "crimes['age_bracket'] = pd.cut(crimes['vict_age'], bins=age_bins, labels=age_labels)"
   ]
  },
  {
   "cell_type": "code",
   "execution_count": 11,
   "id": "bdad7e7e-bcfd-4c46-95e0-10b81ff6ae42",
   "metadata": {},
   "outputs": [
    {
     "name": "stdout",
     "output_type": "stream",
     "text": [
      "age_bracket\n",
      "26-34    47470\n",
      "35-44    42157\n",
      "45-54    28353\n",
      "18-25    28291\n",
      "55-64    20169\n",
      "65+      14747\n",
      "0-17      4528\n",
      "Name: count, dtype: int64\n"
     ]
    }
   ],
   "source": [
    "victim_ages = crimes['age_bracket'].value_counts()\n",
    "print(victim_ages)"
   ]
  },
  {
   "cell_type": "code",
   "execution_count": 54,
   "id": "e051dbd2-27a9-4f21-b118-6e961ffb860f",
   "metadata": {},
   "outputs": [
    {
     "data": {
      "image/png": "[encoded data removed]",
      "text/plain": [
       "<Figure size 640x480 with 1 Axes>"
      ]
     },
     "metadata": {},
     "output_type": "display_data"
    }
   ],
   "source": [
    "sns.countplot(data=crimes, x='vict_descent', color = '#778da9')\n",
    "plt.show()"
   ]
  },
  {
   "cell_type": "code",
   "execution_count": 13,
   "id": "2b78fd39-c456-4a2f-93f1-064f590461fd",
   "metadata": {},
   "outputs": [
    {
     "name": "stdout",
     "output_type": "stream",
     "text": [
      "vict_descent\n",
      "H    74128\n",
      "W    44985\n",
      "B    34931\n",
      "O    16331\n",
      "A     5519\n",
      "X     4548\n",
      "K     1389\n",
      "F     1228\n",
      "C     1210\n",
      "J      433\n",
      "V      327\n",
      "I      322\n",
      "Z      145\n",
      "P       83\n",
      "U       54\n",
      "D       21\n",
      "L       20\n",
      "S       16\n",
      "G       14\n",
      "-        1\n",
      "Name: count, dtype: int64\n"
     ]
    }
   ],
   "source": [
    "vict_descent = crimes['vict_descent'].value_counts()\n",
    "print(vict_descent)  # Vítimas de etnia hispânica/latina/mexicana apresentam a maior incidência de crimes registrados"
   ]
  },
  {
   "cell_type": "code",
   "execution_count": 56,
   "id": "4212e5dd-389b-45b8-8e4d-37ff003c9ae8",
   "metadata": {},
   "outputs": [
    {
     "name": "stdout",
     "output_type": "stream",
     "text": [
      "crm_cd_desc\n",
      "THEFT OF IDENTITY                                 22670\n",
      "BATTERY - SIMPLE ASSAULT                          19694\n",
      "BURGLARY FROM VEHICLE                             13799\n",
      "ASSAULT WITH DEADLY WEAPON, AGGRAVATED ASSAULT    13215\n",
      "INTIMATE PARTNER - SIMPLE ASSAULT                 11981\n",
      "                                                  ...  \n",
      "BRIBERY                                               1\n",
      "GRAND THEFT / INSURANCE FRAUD                         1\n",
      "TILL TAP - GRAND THEFT ($950.01 & OVER)               1\n",
      "DISHONEST EMPLOYEE ATTEMPTED THEFT                    1\n",
      "LYNCHING                                              1\n",
      "Name: count, Length: 104, dtype: int64\n"
     ]
    }
   ],
   "source": [
    "crime_by_type = crimes['crm_cd_desc'].value_counts()\n",
    "print(crime_by_type)"
   ]
  },
  {
   "cell_type": "code",
   "execution_count": 55,
   "id": "86088281-44b8-4e05-a348-016e1be1478c",
   "metadata": {},
   "outputs": [
    {
     "data": {
      "image/png": "[encoded data removed]",
      "text/plain": [
       "<Figure size 1200x600 with 1 Axes>"
      ]
     },
     "metadata": {},
     "output_type": "display_data"
    }
   ],
   "source": [
    "plt.figure(figsize=(12, 6))\n",
    "\n",
    "crimes_filtered = crimes[crimes['vict_descent'] == 'H']\n",
    "sns.countplot(data=crimes_filtered, y='crm_cd_desc', order=crimes_filtered['crm_cd_desc'].value_counts().index[:8], color = '#778da9')\n",
    "plt.show() # → LESÃO CORPORAL / AGRESSÃO SIMPLES"
   ]
  },
  {
   "cell_type": "code",
   "execution_count": 36,
   "id": "7f5a2ee8-83a2-4e12-9c0f-3ceb8834fdf8",
   "metadata": {},
   "outputs": [
    {
     "name": "stdout",
     "output_type": "stream",
     "text": [
      "status_desc\n",
      "Invest Cont     153790\n",
      "Adult Other      17722\n",
      "Adult Arrest     13397\n",
      "Juv Arrest         492\n",
      "Juv Other          312\n",
      "UNK                  2\n",
      "Name: count, dtype: int64\n"
     ]
    }
   ],
   "source": [
    "crime_status = crimes['status_desc'].value_counts()\n",
    "print(crime_status)"
   ]
  }
 ],
 "metadata": {
  "colab": {
   "name": "Welcome to DataCamp Workspaces.ipynb",
   "provenance": []
  },
  "kernelspec": {
   "display_name": "Python 3 (ipykernel)",
   "language": "python",
   "name": "python3"
  },
  "language_info": {
   "codemirror_mode": {
    "name": "ipython",
    "version": 3
   },
   "file_extension": ".py",
   "mimetype": "text/x-python",
   "name": "python",
   "nbconvert_exporter": "python",
   "pygments_lexer": "ipython3",
   "version": "3.12.6"
  }
 },
 "nbformat": 4,
 "nbformat_minor": 5
}
